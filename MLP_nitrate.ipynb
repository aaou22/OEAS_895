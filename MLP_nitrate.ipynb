{
 "cells": [
  {
   "cell_type": "code",
   "execution_count": 1,
   "metadata": {
    "collapsed": true
   },
   "outputs": [],
   "source": [
    "#import packages\n",
    "import numpy as np\n",
    "import pandas as pd\n",
    "import matplotlib.pyplot as plt"
   ]
  },
  {
   "cell_type": "code",
   "execution_count": 2,
   "metadata": {
    "collapsed": true
   },
   "outputs": [],
   "source": [
    "#read in JMA data\n",
    "nitrate = pd.read_csv('C:/Users/Austin/Desktop/OEAS895_Clayton/jma_nitrate.csv') #read in data"
   ]
  },
  {
   "cell_type": "code",
   "execution_count": 3,
   "metadata": {},
   "outputs": [
    {
     "name": "stdout",
     "output_type": "stream",
     "text": [
      "(15574, 3)\n",
      "(15574,)\n"
     ]
    },
    {
     "data": {
      "text/html": [
       "<div>\n",
       "<style scoped>\n",
       "    .dataframe tbody tr th:only-of-type {\n",
       "        vertical-align: middle;\n",
       "    }\n",
       "\n",
       "    .dataframe tbody tr th {\n",
       "        vertical-align: top;\n",
       "    }\n",
       "\n",
       "    .dataframe thead th {\n",
       "        text-align: right;\n",
       "    }\n",
       "</style>\n",
       "<table border=\"1\" class=\"dataframe\">\n",
       "  <thead>\n",
       "    <tr style=\"text-align: right;\">\n",
       "      <th></th>\n",
       "      <th>theta</th>\n",
       "      <th>sal</th>\n",
       "      <th>depth</th>\n",
       "    </tr>\n",
       "  </thead>\n",
       "  <tbody>\n",
       "    <tr>\n",
       "      <th>0</th>\n",
       "      <td>25.8807</td>\n",
       "      <td>34.0215</td>\n",
       "      <td>0</td>\n",
       "    </tr>\n",
       "    <tr>\n",
       "      <th>3</th>\n",
       "      <td>25.9894</td>\n",
       "      <td>34.2936</td>\n",
       "      <td>51</td>\n",
       "    </tr>\n",
       "    <tr>\n",
       "      <th>4</th>\n",
       "      <td>23.6146</td>\n",
       "      <td>34.5002</td>\n",
       "      <td>75</td>\n",
       "    </tr>\n",
       "    <tr>\n",
       "      <th>5</th>\n",
       "      <td>20.0183</td>\n",
       "      <td>34.7358</td>\n",
       "      <td>100</td>\n",
       "    </tr>\n",
       "    <tr>\n",
       "      <th>6</th>\n",
       "      <td>16.5906</td>\n",
       "      <td>34.6531</td>\n",
       "      <td>126</td>\n",
       "    </tr>\n",
       "  </tbody>\n",
       "</table>\n",
       "</div>"
      ],
      "text/plain": [
       "     theta      sal  depth\n",
       "0  25.8807  34.0215      0\n",
       "3  25.9894  34.2936     51\n",
       "4  23.6146  34.5002     75\n",
       "5  20.0183  34.7358    100\n",
       "6  16.5906  34.6531    126"
      ]
     },
     "execution_count": 3,
     "metadata": {},
     "output_type": "execute_result"
    }
   ],
   "source": [
    "#assign variables and remove any rows with negative nitrate values\n",
    "x = nitrate[['theta', 'sal', 'depth']]\n",
    "x = x[nitrate.nitrate>0]\n",
    "y = nitrate.nitrate[nitrate.nitrate > 0]\n",
    "print(np.shape(x))\n",
    "print(np.shape(y))\n",
    "x.head()"
   ]
  },
  {
   "cell_type": "code",
   "execution_count": 4,
   "metadata": {},
   "outputs": [
    {
     "name": "stdout",
     "output_type": "stream",
     "text": [
      "(12459, 3)\n",
      "(3115, 3)\n"
     ]
    }
   ],
   "source": [
    "#import train test split\n",
    "from sklearn.model_selection import train_test_split\n",
    "#split into train and test sets --> 0.2 = 20% test, 80% train\n",
    "X_train,X_test,y_train,y_test = train_test_split(x,y,test_size=0.2,random_state=4)\n",
    "print(X_train.shape)\n",
    "print(X_test.shape)"
   ]
  },
  {
   "cell_type": "code",
   "execution_count": 5,
   "metadata": {},
   "outputs": [
    {
     "name": "stderr",
     "output_type": "stream",
     "text": [
      "C:\\Users\\Austin\\Anaconda3\\lib\\site-packages\\sklearn\\preprocessing\\data.py:625: DataConversionWarning: Data with input dtype int64, float64 were all converted to float64 by StandardScaler.\n",
      "  return self.partial_fit(X, y)\n",
      "C:\\Users\\Austin\\Anaconda3\\lib\\site-packages\\ipykernel_launcher.py:7: DataConversionWarning: Data with input dtype int64, float64 were all converted to float64 by StandardScaler.\n",
      "  import sys\n",
      "C:\\Users\\Austin\\Anaconda3\\lib\\site-packages\\ipykernel_launcher.py:8: DataConversionWarning: Data with input dtype int64, float64 were all converted to float64 by StandardScaler.\n",
      "  \n"
     ]
    }
   ],
   "source": [
    "# scale the training data\n",
    "\n",
    "from sklearn.preprocessing import StandardScaler\n",
    "scaler = StandardScaler()\n",
    "scaler.fit(X_train)\n",
    "\n",
    "X_train = scaler.transform(X_train)\n",
    "X_test = scaler.transform(X_test)"
   ]
  },
  {
   "cell_type": "code",
   "execution_count": 6,
   "metadata": {},
   "outputs": [
    {
     "name": "stdout",
     "output_type": "stream",
     "text": [
      "(2, 6, 10, 14)\n",
      "(1, 2, 3, 4)\n",
      "[1]\n",
      "1 2 0.8935102609823077 25.352065650414318\n",
      "1 6 0.9652067312724356 8.283250960237309\n",
      "1 10 0.9851684503835214 3.530954466062419\n",
      "1 14 0.9857123259124602 3.40147374573671\n",
      "[1 1]\n",
      "2 2 0.8935272846054492 25.348012827903247\n",
      "2 6 0.9751302859407321 5.9207453164369195\n",
      "2 10 0.987629408879584 2.9450728409346114\n",
      "2 14 0.9897110329915286 2.449499543147298\n",
      "[1 1 1]\n",
      "3 2 -2.4873931720126308e-05 238.0764239806443\n",
      "3 6 0.9848881516969225 3.5976853151557884\n",
      "3 10 0.9874927328869192 2.97761136315126\n",
      "3 14 0.9904475959069139 2.274145639956645\n",
      "[1 1 1 1]\n",
      "4 2 -2.6196976503189973e-05 238.0767389585803\n",
      "4 6 0.9887276203956161 2.6836210737567097\n",
      "4 10 0.9903598643517206 2.295031935363036\n",
      "4 14 0.9902835738073351 2.3131944635803885\n"
     ]
    }
   ],
   "source": [
    "##EXPLORE PARAMETER SPACE\n",
    "\n",
    "#import sklearn packages\n",
    "from sklearn.neural_network import MLPRegressor\n",
    "from sklearn import metrics\n",
    "\n",
    "#create empty lists\n",
    "scores=[]\n",
    "scores_list=[]\n",
    "results=[]\n",
    "\n",
    "#create a range of numbers of nodes to be tested (2-15, jumping by 4's)\n",
    "n = tuple(range(2, 15, 4))\n",
    "print(n)\n",
    "#create a range of numbers of layers to be tested (1-4)\n",
    "l = tuple(range(1,5,1))\n",
    "print(l)\n",
    "\n",
    "#build a nested loop to loop through both various numbers of layers and nodes\n",
    "for l in l:\n",
    "    layers = np.ones(l, dtype=np.int8) #create an array of ones that loops with l\n",
    "    print(layers)\n",
    "    for i in n:\n",
    "        model = MLPRegressor(hidden_layer_sizes=(i*layers), max_iter=2000, random_state=1) #1000 iterations wasn't enough to optimize\n",
    "        model.fit(X_train, y_train)\n",
    "        y_pred = model.predict(X_test)\n",
    "        scores = metrics.r2_score(y_test,y_pred)\n",
    "        scores1 = metrics.mean_squared_error(y_test,y_pred)\n",
    "        print(l,i,scores, scores1)\n",
    "        scores_list.append(metrics.r2_score(y_test,y_pred))\n",
    "        \n",
    "#printed results show layer, nodes, r^2, and RMSE"
   ]
  },
  {
   "cell_type": "code",
   "execution_count": null,
   "metadata": {
    "collapsed": true
   },
   "outputs": [],
   "source": []
  }
 ],
 "metadata": {
  "kernelspec": {
   "display_name": "Python 3",
   "language": "python",
   "name": "python3"
  },
  "language_info": {
   "codemirror_mode": {
    "name": "ipython",
    "version": 3
   },
   "file_extension": ".py",
   "mimetype": "text/x-python",
   "name": "python",
   "nbconvert_exporter": "python",
   "pygments_lexer": "ipython3",
   "version": "3.6.0"
  }
 },
 "nbformat": 4,
 "nbformat_minor": 2
}
