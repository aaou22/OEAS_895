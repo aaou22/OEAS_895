{
 "cells": [
  {
   "cell_type": "code",
   "execution_count": 1,
   "metadata": {
    "collapsed": true
   },
   "outputs": [],
   "source": [
    "#import packages\n",
    "import numpy as np\n",
    "import pandas as pd\n",
    "import matplotlib.pyplot as plt\n",
    "#load unknown wine dataset\n",
    "from sklearn.datasets import load_wine"
   ]
  },
  {
   "cell_type": "code",
   "execution_count": 2,
   "metadata": {},
   "outputs": [
    {
     "name": "stdout",
     "output_type": "stream",
     "text": [
      ".. _wine_dataset:\n",
      "\n",
      "Wine recognition dataset\n",
      "------------------------\n",
      "\n",
      "**Data Set Characteristics:**\n",
      "\n",
      "    :Number of Instances: 178 (50 in each of three classes)\n",
      "    :Number of Attributes: 13 numeric, predictive attributes and the class\n",
      "    :Attribute Information:\n",
      " \t\t- Alcohol\n",
      " \t\t- Malic acid\n",
      " \t\t- Ash\n",
      "\t\t- Alcalinity of ash  \n",
      " \t\t- Magnesium\n",
      "\t\t- Total phenols\n",
      " \t\t- Flavanoids\n",
      " \t\t- Nonflavanoid phenols\n",
      " \t\t- Proanthocyanins\n",
      "\t\t- Color intensity\n",
      " \t\t- Hue\n",
      " \t\t- OD280/OD315 of diluted wines\n",
      " \t\t- Proline\n",
      "\n",
      "    - class:\n",
      "            - class_0\n",
      "            - class_1\n",
      "            - class_2\n",
      "\t\t\n",
      "    :Summary Statistics:\n",
      "    \n",
      "    ============================= ==== ===== ======= =====\n",
      "                                   Min   Max   Mean     SD\n",
      "    ============================= ==== ===== ======= =====\n",
      "    Alcohol:                      11.0  14.8    13.0   0.8\n",
      "    Malic Acid:                   0.74  5.80    2.34  1.12\n",
      "    Ash:                          1.36  3.23    2.36  0.27\n",
      "    Alcalinity of Ash:            10.6  30.0    19.5   3.3\n",
      "    Magnesium:                    70.0 162.0    99.7  14.3\n",
      "    Total Phenols:                0.98  3.88    2.29  0.63\n",
      "    Flavanoids:                   0.34  5.08    2.03  1.00\n",
      "    Nonflavanoid Phenols:         0.13  0.66    0.36  0.12\n",
      "    Proanthocyanins:              0.41  3.58    1.59  0.57\n",
      "    Colour Intensity:              1.3  13.0     5.1   2.3\n",
      "    Hue:                          0.48  1.71    0.96  0.23\n",
      "    OD280/OD315 of diluted wines: 1.27  4.00    2.61  0.71\n",
      "    Proline:                       278  1680     746   315\n",
      "    ============================= ==== ===== ======= =====\n",
      "\n",
      "    :Missing Attribute Values: None\n",
      "    :Class Distribution: class_0 (59), class_1 (71), class_2 (48)\n",
      "    :Creator: R.A. Fisher\n",
      "    :Donor: Michael Marshall (MARSHALL%PLU@io.arc.nasa.gov)\n",
      "    :Date: July, 1988\n",
      "\n",
      "This is a copy of UCI ML Wine recognition datasets.\n",
      "https://archive.ics.uci.edu/ml/machine-learning-databases/wine/wine.data\n",
      "\n",
      "The data is the results of a chemical analysis of wines grown in the same\n",
      "region in Italy by three different cultivators. There are thirteen different\n",
      "measurements taken for different constituents found in the three types of\n",
      "wine.\n",
      "\n",
      "Original Owners: \n",
      "\n",
      "Forina, M. et al, PARVUS - \n",
      "An Extendible Package for Data Exploration, Classification and Correlation. \n",
      "Institute of Pharmaceutical and Food Analysis and Technologies,\n",
      "Via Brigata Salerno, 16147 Genoa, Italy.\n",
      "\n",
      "Citation:\n",
      "\n",
      "Lichman, M. (2013). UCI Machine Learning Repository\n",
      "[http://archive.ics.uci.edu/ml]. Irvine, CA: University of California,\n",
      "School of Information and Computer Science. \n",
      "\n",
      ".. topic:: References\n",
      "\n",
      "  (1) S. Aeberhard, D. Coomans and O. de Vel, \n",
      "  Comparison of Classifiers in High Dimensional Settings, \n",
      "  Tech. Rep. no. 92-02, (1992), Dept. of Computer Science and Dept. of  \n",
      "  Mathematics and Statistics, James Cook University of North Queensland. \n",
      "  (Also submitted to Technometrics). \n",
      "\n",
      "  The data was used with many others for comparing various \n",
      "  classifiers. The classes are separable, though only RDA \n",
      "  has achieved 100% correct classification. \n",
      "  (RDA : 100%, QDA 99.4%, LDA 98.9%, 1NN 96.1% (z-transformed data)) \n",
      "  (All results using the leave-one-out technique) \n",
      "\n",
      "  (2) S. Aeberhard, D. Coomans and O. de Vel, \n",
      "  \"THE CLASSIFICATION PERFORMANCE OF RDA\" \n",
      "  Tech. Rep. no. 92-01, (1992), Dept. of Computer Science and Dept. of \n",
      "  Mathematics and Statistics, James Cook University of North Queensland. \n",
      "  (Also submitted to Journal of Chemometrics).\n",
      "\n"
     ]
    }
   ],
   "source": [
    "#assign name to wine dataset\n",
    "wine=load_wine()\n",
    "#print dataset attributes for wine dataset\n",
    "print(wine['DESCR'])"
   ]
  },
  {
   "cell_type": "code",
   "execution_count": 3,
   "metadata": {},
   "outputs": [
    {
     "name": "stdout",
     "output_type": "stream",
     "text": [
      "[0 0 0 0 0 0 0 0 0 0 0 0 0 0 0 0 0 0 0 0 0 0 0 0 0 0 0 0 0 0 0 0 0 0 0 0 0\n",
      " 0 0 0 0 0 0 0 0 0 0 0 0 0 0 0 0 0 0 0 0 0 0 1 1 1 1 1 1 1 1 1 1 1 1 1 1 1\n",
      " 1 1 1 1 1 1 1 1 1 1 1 1 1 1 1 1 1 1 1 1 1 1 1 1 1 1 1 1 1 1 1 1 1 1 1 1 1\n",
      " 1 1 1 1 1 1 1 1 1 1 1 1 1 1 1 1 1 1 1 2 2 2 2 2 2 2 2 2 2 2 2 2 2 2 2 2 2\n",
      " 2 2 2 2 2 2 2 2 2 2 2 2 2 2 2 2 2 2 2 2 2 2 2 2 2 2 2 2 2 2]\n"
     ]
    }
   ],
   "source": [
    "#double check that wine.target is our wine type target variable\n",
    "print (wine.target)"
   ]
  },
  {
   "cell_type": "code",
   "execution_count": 4,
   "metadata": {},
   "outputs": [
    {
     "name": "stdout",
     "output_type": "stream",
     "text": [
      "(178, 13)\n",
      "(178,)\n"
     ]
    }
   ],
   "source": [
    "#define variables for machine learning\n",
    "x=wine.data \n",
    "y=wine.target \n",
    "#print shapes to double check that x and y have been properly assigned\n",
    "print(np.shape(x))\n",
    "print(np.shape(y))"
   ]
  },
  {
   "cell_type": "code",
   "execution_count": 5,
   "metadata": {},
   "outputs": [
    {
     "name": "stdout",
     "output_type": "stream",
     "text": [
      "[2 2 0 0 1 2 0 1 0 1 1 0 2 2 0 1 0 1 1 2 1 2 1 2 0 2 1 1 2 2 0 1 0 1 2 2]\n"
     ]
    }
   ],
   "source": [
    "#import train test split\n",
    "from sklearn.model_selection import train_test_split\n",
    "#split into train and test sets --> 0.2 = 20% test, 80% train\n",
    "X_train,X_test,y_train,y_test = train_test_split(x,y,test_size=0.2,random_state=4)\n",
    "print(y_test)"
   ]
  },
  {
   "cell_type": "code",
   "execution_count": 6,
   "metadata": {
    "collapsed": true
   },
   "outputs": [],
   "source": [
    "# scale the training data\n",
    "\n",
    "#from sklearn.preprocessing import StandardScaler\n",
    "#scaler = StandardScaler()\n",
    "#scaler.fit(X_train)\n",
    "\n",
    "#X_train = scaler.transform(X_train)\n",
    "#X_test = scaler.transform(X_test)"
   ]
  },
  {
   "cell_type": "markdown",
   "metadata": {},
   "source": [
    "I have commented out scaling here.  When I scale the data, almost all combinations of layers and nodes returns a score of >0.9"
   ]
  },
  {
   "cell_type": "code",
   "execution_count": 7,
   "metadata": {},
   "outputs": [
    {
     "name": "stdout",
     "output_type": "stream",
     "text": [
      "(1, 2, 3, 4, 5, 6, 7, 8, 9, 10)\n",
      "(1, 2, 3)\n",
      "[1]\n",
      "1 1 0.2777777777777778\n",
      "1 2 0.3611111111111111\n",
      "1 3 0.3611111111111111\n",
      "1 4 0.5833333333333334\n",
      "1 5 0.9166666666666666\n",
      "[[10  0  0]\n",
      " [ 1 12  0]\n",
      " [ 0  2 11]]\n",
      "              precision    recall  f1-score   support\n",
      "\n",
      "           0       0.91      1.00      0.95        10\n",
      "           1       0.86      0.92      0.89        13\n",
      "           2       1.00      0.85      0.92        13\n",
      "\n",
      "   micro avg       0.92      0.92      0.92        36\n",
      "   macro avg       0.92      0.92      0.92        36\n",
      "weighted avg       0.92      0.92      0.92        36\n",
      "\n",
      "1 6 0.2777777777777778\n",
      "1 7 0.3611111111111111\n",
      "1 8 0.0\n",
      "1 9 0.3611111111111111\n",
      "1 10 0.9722222222222222\n",
      "[[10  0  0]\n",
      " [ 1 12  0]\n",
      " [ 0  0 13]]\n",
      "              precision    recall  f1-score   support\n",
      "\n",
      "           0       0.91      1.00      0.95        10\n",
      "           1       1.00      0.92      0.96        13\n",
      "           2       1.00      1.00      1.00        13\n",
      "\n",
      "   micro avg       0.97      0.97      0.97        36\n",
      "   macro avg       0.97      0.97      0.97        36\n",
      "weighted avg       0.97      0.97      0.97        36\n",
      "\n",
      "[1 1]\n",
      "2 1 0.3611111111111111\n",
      "2 2 0.6111111111111112\n",
      "2 3 0.3611111111111111\n",
      "2 4 0.2777777777777778\n",
      "2 5 0.4166666666666667\n",
      "2 6 0.3611111111111111\n",
      "2 7 0.3611111111111111\n",
      "2 8 0.3611111111111111\n",
      "2 9 0.3611111111111111\n",
      "2 10 0.3611111111111111\n",
      "[1 1 1]\n",
      "3 1 0.2777777777777778\n",
      "3 2 0.2777777777777778\n",
      "3 3 0.3611111111111111\n",
      "3 4 0.6111111111111112\n",
      "3 5 0.6388888888888888\n",
      "3 6 0.3611111111111111\n",
      "3 7 0.3611111111111111\n",
      "3 8 0.3611111111111111\n",
      "3 9 0.3055555555555556\n",
      "3 10 0.3611111111111111\n"
     ]
    }
   ],
   "source": [
    "#import sklearn packages\n",
    "from sklearn.neural_network import MLPClassifier\n",
    "from sklearn import metrics\n",
    "from sklearn.metrics import classification_report, confusion_matrix\n",
    "\n",
    "#create empty lists\n",
    "scores=[]\n",
    "scores_list=[]\n",
    "results=[]\n",
    "\n",
    "#create a range of numbers of nodes to be tested (1-10)\n",
    "n = tuple(range(1, 11, 1))\n",
    "print(n)\n",
    "#create a range of numbers of layers to be tested (1-3)\n",
    "l = tuple(range(1,4,1))\n",
    "print(l)\n",
    "\n",
    "#build a nested loop to loop through both various numbers of layers and nodes\n",
    "for l in l:\n",
    "    layers = np.ones(l, dtype=np.int8) #create an array of ones that loops with l\n",
    "    print(layers)\n",
    "    for i in n:\n",
    "        mlp = MLPClassifier(hidden_layer_sizes=(i*layers), max_iter=2500, random_state=1) #1000 iterations wasn't enough to optimize\n",
    "        mlp.fit(X_train, y_train)\n",
    "        y_pred = mlp.predict(X_test)\n",
    "        scores = metrics.accuracy_score(y_test,y_pred)\n",
    "        print(l,i,scores)\n",
    "        scores_list.append(metrics.accuracy_score(y_test,y_pred))\n",
    "        if scores > 0.9:\n",
    "            print(confusion_matrix(y_test,y_pred))\n",
    "            print(classification_report(y_test,y_pred))"
   ]
  },
  {
   "cell_type": "markdown",
   "metadata": {},
   "source": [
    "EXPLANATION OF RESULTS:\n",
    "\n",
    "1) Description of Loop: This nested for loop first loops through the number of layers in MLP Classifier (1,2,3 \"l\" in this case), and for each layer loops through various numbers of nodes (1-10 \"n\").  The result of the list will print 3 columns, with the number of layers in the left column, number of nodes in the middle column, and score in the right column.  Additionally, for any model run that returns a score >0.9, a confusion matrix and classification report are printed.  The random state of the model is set to 1, to ensure reproducibility between model runs.\n",
    "\n",
    "2) Results: Only two model runs returned a score of >0.9, those being 1 layer with 5 nodes, and 1 layer with 10 nodes.  See heat map below for visualization of scores.  The model run containing 1 layer and 10 nodes had the highest accuracy score (0.97, 35/36 predictions were correct) and will thus be used moving forward.  It is worth noting that required computational power should also be a factor in determining which model architecture to use, though those effects are negligible with the simple models tested here.\n",
    "\n",
    "3) Results cont: In addition to having a higher score, the confusion matrices and classification reports printed above show that the 1 layer, 10 node model perfectly predicts wines in \"class 2\" (3rd row) (recall score of 1.0) while the 5 node model incorrectly predicts 2 of them as class 1 (recall of 0.85).  The two models are identical in performace for class 0 and class 1, with 0 incorrect predictions for class 0 (recall of 1.0), and one misclassification of class 1 data into class 0 (recall of 0.92).  Recall scores here indicate how effectively the data from each class were classified as that given class.  Precision scores reveal false classifications for a given class.  A precision score of 0.91 for class 0 for both models indicates one false classification of \"class 0\" from non class 0 data.  The low precision of class 1 in the 5 node model (0.86) quantifies the 2 misclassifications of class 2 wine as class 1 wine.  High f1 scores across the board for both models indicate that there are no hidden discrepencies in the model performance despite its high score (ex: one really low precision or recall).\n",
    "\n",
    "FINAL DECISION: 1 layer, 10 nodes"
   ]
  },
  {
   "cell_type": "code",
   "execution_count": 8,
   "metadata": {},
   "outputs": [
    {
     "name": "stdout",
     "output_type": "stream",
     "text": [
      "[[0.27777778 0.36111111 0.27777778]\n",
      " [0.36111111 0.61111111 0.27777778]\n",
      " [0.36111111 0.36111111 0.36111111]\n",
      " [0.58333333 0.27777778 0.61111111]\n",
      " [0.91666667 0.41666667 0.63888889]\n",
      " [0.27777778 0.36111111 0.36111111]\n",
      " [0.36111111 0.36111111 0.36111111]\n",
      " [0.         0.36111111 0.36111111]\n",
      " [0.36111111 0.36111111 0.30555556]\n",
      " [0.97222222 0.36111111 0.36111111]]\n"
     ]
    }
   ],
   "source": [
    "#create a matrix with layer, nodes, and scores\n",
    "\n",
    "#create an empty matrix (alter values to match n and l)\n",
    "matrix=np.zeros((10,3))\n",
    "#assign values for each set of layer runs to the array\n",
    "matrix[:,0] = scores_list[0:10]\n",
    "matrix[:,1] = scores_list[10:20]\n",
    "matrix[:,2] = scores_list[20:30]\n",
    "print(matrix)"
   ]
  },
  {
   "cell_type": "code",
   "execution_count": 9,
   "metadata": {},
   "outputs": [
    {
     "data": {
      "image/png": "[encoded data removed]",
      "text/plain": [
       "<Figure size 576x396 with 2 Axes>"
      ]
     },
     "metadata": {},
     "output_type": "display_data"
    }
   ],
   "source": [
    "#create heat map of MLP accuracies with various nodes and layers\n",
    "import seaborn\n",
    "l = range(1,4,1) #redifining l (its values were lost somewhere along the way) \n",
    "heatmap=seaborn.heatmap(matrix, xticklabels=l, yticklabels=n, cbar_kws={'label': 'Score'})\n",
    "plt.xlabel('# of layers')\n",
    "plt.ylabel('# of nodes')\n",
    "plt.show(heatmap)"
   ]
  },
  {
   "cell_type": "code",
   "execution_count": 10,
   "metadata": {},
   "outputs": [
    {
     "name": "stdout",
     "output_type": "stream",
     "text": [
      "[0 0 0 1 2 1 1 1 1 1]\n",
      "[[1.00000000e+00 8.02126135e-18 6.84556082e-12]\n",
      " [9.99969976e-01 2.35594599e-08 3.00005335e-05]\n",
      " [9.91639432e-01 6.28081206e-03 2.07975643e-03]\n",
      " [7.12805585e-04 9.42443448e-01 5.68437464e-02]\n",
      " [2.71841017e-02 4.95834183e-02 9.23232480e-01]\n",
      " [1.17476849e-01 8.67489885e-01 1.50332660e-02]\n",
      " [7.51261652e-03 5.11426298e-01 4.81061086e-01]\n",
      " [1.89799272e-02 9.80745329e-01 2.74743877e-04]\n",
      " [1.01416042e-04 9.62873048e-01 3.70255362e-02]\n",
      " [5.43745252e-04 9.96545154e-01 2.91110071e-03]]\n"
     ]
    }
   ],
   "source": [
    "#test high scoring model on unknown_wine data to predict class of wine\n",
    "unknown_wine = pd.read_csv('C:/Users/Austin/Desktop/OEAS895_Clayton/unknown_wine.csv') #read in data\n",
    "#print(unknown_wine)\n",
    "#run classifier with high scoring model (1 layer, 10 nodes)\n",
    "mlp = MLPClassifier(hidden_layer_sizes=(10,), max_iter=2500, random_state=1) #preserve iterations and random state used for model verification\n",
    "mlp.fit(X_train, y_train)\n",
    "y_pred = mlp.predict(unknown_wine)\n",
    "#predict the probability that each target data point is put into each class\n",
    "probability = mlp.predict_proba(unknown_wine)\n",
    "print(y_pred) #class predictions for each of the 10 unknown samples\n",
    "print(probability) #matrix that reports the probability of each sample (row) belonging to each class (column)"
   ]
  },
  {
   "cell_type": "markdown",
   "metadata": {
    "collapsed": true
   },
   "source": [
    "The probability matrix above shows that each unknown wine has a probability near or above 0.9 of being classified into its predicted class, with the exception of the 7th unknown wine, which was classified as \"class 1\" with a probability of only 0.51 for it actually belonging to that class.  Further investigation of that sample should be conducted before completely accepting the results of the classification."
   ]
  }
 ],
 "metadata": {
  "kernelspec": {
   "display_name": "Python 3",
   "language": "python",
   "name": "python3"
  },
  "language_info": {
   "codemirror_mode": {
    "name": "ipython",
    "version": 3
   },
   "file_extension": ".py",
   "mimetype": "text/x-python",
   "name": "python",
   "nbconvert_exporter": "python",
   "pygments_lexer": "ipython3",
   "version": "3.6.0"
  }
 },
 "nbformat": 4,
 "nbformat_minor": 2
}
