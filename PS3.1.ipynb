{
 "cells": [
  {
   "cell_type": "code",
   "execution_count": 1,
   "metadata": {
    "collapsed": true
   },
   "outputs": [],
   "source": [
    "#import packages\n",
    "import numpy as np\n",
    "import pandas as pd\n",
    "import matplotlib.pyplot as plt"
   ]
  },
  {
   "cell_type": "code",
   "execution_count": 2,
   "metadata": {
    "collapsed": true
   },
   "outputs": [],
   "source": [
    "# import JMA data with known nitrate values for training\n",
    "jma = pd.read_csv('C:/Users/Austin/Desktop/OEAS895_Clayton/jma_nitrate.csv') #read in data"
   ]
  },
  {
   "cell_type": "code",
   "execution_count": 3,
   "metadata": {},
   "outputs": [
    {
     "name": "stdout",
     "output_type": "stream",
     "text": [
      "(15574, 3)\n",
      "(15574,)\n"
     ]
    }
   ],
   "source": [
    "#define variables for machine learning\n",
    "x=jma[['theta', 'sal', 'depth']]\n",
    "y=jma.nitrate\n",
    "#drop rows with negative nitrate values for x and y\n",
    "x = x[jma.nitrate>0]\n",
    "y = jma.nitrate[jma.nitrate > 0]\n",
    "#print shapes to double check that x and y have been properly assigned\n",
    "print(np.shape(x))\n",
    "print(np.shape(y))"
   ]
  },
  {
   "cell_type": "code",
   "execution_count": 4,
   "metadata": {},
   "outputs": [
    {
     "name": "stdout",
     "output_type": "stream",
     "text": [
      "(12459, 3)\n",
      "(12459,)\n"
     ]
    }
   ],
   "source": [
    "#import train test split\n",
    "from sklearn.model_selection import train_test_split\n",
    "#split into train and test sets --> 0.2 = 20% test, 80% train\n",
    "X_train,X_test,y_train,y_test = train_test_split(x,y,test_size=0.2,random_state=4)\n",
    "print(X_train.shape)\n",
    "print(y_train.shape)"
   ]
  },
  {
   "cell_type": "code",
   "execution_count": 5,
   "metadata": {},
   "outputs": [
    {
     "name": "stderr",
     "output_type": "stream",
     "text": [
      "C:\\Users\\Austin\\Anaconda3\\lib\\site-packages\\sklearn\\preprocessing\\data.py:625: DataConversionWarning: Data with input dtype int64, float64 were all converted to float64 by StandardScaler.\n",
      "  return self.partial_fit(X, y)\n",
      "C:\\Users\\Austin\\Anaconda3\\lib\\site-packages\\ipykernel_launcher.py:7: DataConversionWarning: Data with input dtype int64, float64 were all converted to float64 by StandardScaler.\n",
      "  import sys\n",
      "C:\\Users\\Austin\\Anaconda3\\lib\\site-packages\\ipykernel_launcher.py:8: DataConversionWarning: Data with input dtype int64, float64 were all converted to float64 by StandardScaler.\n",
      "  \n"
     ]
    }
   ],
   "source": [
    "#scale the training data\n",
    "\n",
    "from sklearn.preprocessing import StandardScaler\n",
    "scaler = StandardScaler()\n",
    "scaler.fit(X_train)\n",
    "\n",
    "X_train = scaler.transform(X_train)\n",
    "X_test = scaler.transform(X_test)"
   ]
  },
  {
   "cell_type": "code",
   "execution_count": 6,
   "metadata": {},
   "outputs": [
    {
     "name": "stdout",
     "output_type": "stream",
     "text": [
      "0.9902129329554762\n",
      "2.330011966660487\n"
     ]
    }
   ],
   "source": [
    "#run classifier with high scoring model (3 layers, 10 nodes, see model parameter space script)\n",
    "from sklearn.neural_network import MLPRegressor\n",
    "from sklearn import metrics\n",
    "mlp = MLPRegressor(hidden_layer_sizes=(10,10,10), max_iter=2500) #1000 iterations not enough to optimize\n",
    "mlp.fit(X_train, y_train)\n",
    "y_pred = mlp.predict(X_test)\n",
    "# compute the R^2 and RMSE\n",
    "print(metrics.r2_score(y_test,y_pred))\n",
    "print(metrics.mean_squared_error(y_test,y_pred))"
   ]
  },
  {
   "cell_type": "code",
   "execution_count": 7,
   "metadata": {},
   "outputs": [
    {
     "name": "stdout",
     "output_type": "stream",
     "text": [
      "(16136, 12)\n"
     ]
    }
   ],
   "source": [
    "#read in argo data with known nitrate values\n",
    "argo = pd.read_csv('C:/Users/Austin/Desktop/OEAS895_Clayton/kuro_BGCargo_NO3.csv') #read in data\n",
    "print(np.shape(argo))"
   ]
  },
  {
   "cell_type": "code",
   "execution_count": 8,
   "metadata": {},
   "outputs": [
    {
     "name": "stdout",
     "output_type": "stream",
     "text": [
      "(14118, 3)\n",
      "       TEMPERATURE[C]  SALINITY[PSS]  DEPTH[M]\n",
      "0              3.2285        34.3676   989.324\n",
      "1              3.3824        34.3560   941.762\n",
      "2              3.4966        34.3380   892.728\n",
      "3              3.4847        34.2972   842.920\n",
      "4              3.6554        34.2942   794.287\n",
      "5              3.8710        34.2645   743.793\n",
      "6              3.9976        34.2373   694.959\n",
      "7              4.2422        34.1913   645.648\n",
      "8              4.5554        34.1309   596.098\n",
      "9              5.0392        34.1024   546.298\n",
      "10             4.9606        33.9973   497.239\n",
      "11             5.6877        33.9899   447.000\n",
      "12             6.7208        34.0327   397.610\n",
      "13             7.2358        34.0487   377.538\n",
      "14             7.7916        34.0716   358.494\n",
      "15             8.0722        34.0903   347.961\n",
      "16             8.2512        34.1035   338.497\n",
      "17             8.3293        34.1099   328.825\n",
      "18             8.3837        34.1141   318.637\n",
      "19             8.4225        34.1168   308.746\n",
      "20             8.7164        34.1364   298.855\n",
      "21             8.9253        34.1538   289.300\n",
      "22             9.3852        34.1804   279.159\n",
      "23             9.6975        34.1879   269.038\n",
      "24             9.5233        34.1053   259.244\n",
      "25             9.2039        34.0124   248.606\n",
      "26             9.4222        33.9962   238.811\n",
      "27            10.2406        34.1180   229.025\n",
      "28            10.9875        34.2208   219.249\n",
      "29            11.8057        34.3229   209.799\n",
      "...               ...            ...       ...\n",
      "16093         13.9619        34.4696   299.205\n",
      "16094         14.1843        34.4901   288.893\n",
      "16095         14.4143        34.5132   278.908\n",
      "16096         14.6302        34.5353   269.388\n",
      "16097         14.8097        34.5496   258.143\n",
      "16098         14.9908        34.5664   249.762\n",
      "16099         15.1501        34.5803   238.932\n",
      "16100         15.2219        34.5819   229.907\n",
      "16101         15.4658        34.6011   219.929\n",
      "16102         15.6501        34.6188   208.998\n",
      "16103         15.7894        34.6324   199.436\n",
      "16104         15.9417        34.6460   189.416\n",
      "16105         16.0945        34.6594   180.091\n",
      "16106         16.2523        34.6732   169.654\n",
      "16107         16.4734        34.6874   159.812\n",
      "16108         16.6769        34.7007   146.893\n",
      "16109         16.8185        34.7120   139.581\n",
      "16110         16.9496        34.7234   129.459\n",
      "16111         17.2101        34.7376   120.062\n",
      "16112         17.3577        34.7462   110.644\n",
      "16113         17.5797        34.7539   100.501\n",
      "16114         17.6777        34.7598    95.112\n",
      "16115         17.9173        34.7604    90.537\n",
      "16116         19.9296        34.8454    86.279\n",
      "16118         20.0207        34.8495    75.807\n",
      "16122         20.0252        34.8496    55.657\n",
      "16129         20.0102        34.8498    21.556\n",
      "16133          3.9699        34.2141   989.247\n",
      "16134          4.1700        34.1807   942.469\n",
      "16135          4.4227        34.1312   893.249\n",
      "\n",
      "[14118 rows x 3 columns]\n",
      "0        44.57\n",
      "1        43.99\n",
      "2        43.85\n",
      "3        44.22\n",
      "4        43.73\n",
      "5        42.95\n",
      "6        42.65\n",
      "7        41.57\n",
      "8        39.79\n",
      "9        37.66\n",
      "10       35.82\n",
      "11       32.46\n",
      "12       28.89\n",
      "13       27.34\n",
      "14       25.25\n",
      "15       24.41\n",
      "16       24.02\n",
      "17       23.91\n",
      "18       23.64\n",
      "19       23.68\n",
      "20       22.95\n",
      "21       22.33\n",
      "22       21.67\n",
      "23       18.80\n",
      "24       16.62\n",
      "25       13.42\n",
      "26       12.28\n",
      "27       13.27\n",
      "28       14.39\n",
      "29       15.08\n",
      "         ...  \n",
      "16093     7.53\n",
      "16094     8.26\n",
      "16095     6.60\n",
      "16096     6.59\n",
      "16097     6.20\n",
      "16098     6.86\n",
      "16099     5.72\n",
      "16100     6.61\n",
      "16101     6.84\n",
      "16102     6.98\n",
      "16103     6.29\n",
      "16104     5.41\n",
      "16105     6.46\n",
      "16106     4.89\n",
      "16107     5.30\n",
      "16108     5.10\n",
      "16109     4.14\n",
      "16110     3.62\n",
      "16111     3.35\n",
      "16112     1.53\n",
      "16113     1.72\n",
      "16114     2.02\n",
      "16115     1.95\n",
      "16116     0.48\n",
      "16118     0.11\n",
      "16122     0.15\n",
      "16129     0.58\n",
      "16133    42.58\n",
      "16134    41.13\n",
      "16135    39.65\n",
      "Name: NITRATE, Length: 14118, dtype: float64\n"
     ]
    }
   ],
   "source": [
    "#define variables for machine learning\n",
    "x1=argo[[ 'TEMPERATURE[C]', 'SALINITY[PSS]', 'NITRATE']]\n",
    "#depth values in argo data are negative, but need to make positive to match JMA data\n",
    "depth_pos=argo[['DEPTH[M]']]*-1\n",
    "#read in dates from argo data\n",
    "month=argo['Date/GMT']\n",
    "#pull just the month information out of each date string\n",
    "month=([i[0] for i in month])\n",
    "month=pd.DataFrame(month,columns=['MONTH'],dtype=np.int8)\n",
    "\n",
    "x1 = pd.concat([x1, depth_pos], axis=1, sort=False)\n",
    "##uncomment the below line to include argo month data\n",
    "#x1 = pd.concat([x1, month], axis=1, sort=False)\n",
    "\n",
    "##BELOW code can be uncommented to only look at specific months\n",
    "#create new array \"x2\" which only looks at months of 3-5 (change every \"x1\" below to \"x2\" to see results)\n",
    "#x2 = x1[(x1.MONTH>2)]\n",
    "#x2 = x2[(x2.MONTH<6)]\n",
    "\n",
    "#remove rows with negative values\n",
    "x1 = x1[x1.NITRATE>0]\n",
    "\n",
    "#remove known nitrate data from argo dataset and assign to separate variable\n",
    "true_nitrate = x1['NITRATE'] \n",
    "x1 = x1.drop(['NITRATE'],axis=1)\n",
    "\n",
    "#print shapes to double check that x and y have been properly assigned\n",
    "print(np.shape(x1))\n",
    "print(x1)\n",
    "print(true_nitrate)"
   ]
  },
  {
   "cell_type": "code",
   "execution_count": 9,
   "metadata": {},
   "outputs": [],
   "source": [
    "# scale the argo data (no nitrate)\n",
    "x1 = scaler.transform(x1)"
   ]
  },
  {
   "cell_type": "code",
   "execution_count": 10,
   "metadata": {},
   "outputs": [
    {
     "name": "stdout",
     "output_type": "stream",
     "text": [
      "(14118,)\n",
      "0\n",
      "(14118,)\n"
     ]
    }
   ],
   "source": [
    "#use mlp classifier to predict nitrate values from argo predictor variables\n",
    "y_pred1 = mlp.predict(x1)\n",
    "print(np.shape(y_pred1))\n",
    "\n",
    "#loop through predicted nitrate values, and turn any negative values into zeros\n",
    "y_pred1_pos = []\n",
    "for i in y_pred1:\n",
    "    if i < 0:\n",
    "        i = 0\n",
    "    else:\n",
    "        i = i\n",
    "    y_pred1_pos.append(i)\n",
    "    \n",
    "#verify no negative values\n",
    "print(min(y_pred1_pos))\n",
    "print(np.shape(y_pred1_pos))"
   ]
  },
  {
   "cell_type": "code",
   "execution_count": 11,
   "metadata": {},
   "outputs": [
    {
     "name": "stdout",
     "output_type": "stream",
     "text": [
      "0.9706864519280316\n",
      "5.079904729495072\n"
     ]
    }
   ],
   "source": [
    "# compute the R^2 score and RMSE\n",
    "print(metrics.r2_score(true_nitrate,y_pred1_pos))\n",
    "print(metrics.mean_squared_error(true_nitrate,y_pred1_pos))"
   ]
  },
  {
   "cell_type": "code",
   "execution_count": 13,
   "metadata": {},
   "outputs": [
    {
     "data": {
      "image/png": "[encoded data removed]",
      "text/plain": [
       "<Figure size 432x288 with 1 Axes>"
      ]
     },
     "metadata": {},
     "output_type": "display_data"
    }
   ],
   "source": [
    "fig1 = plt.figure()\n",
    "plt.scatter(true_nitrate,y_pred1_pos)\n",
    "plt.xlabel('True Nitrate')\n",
    "plt.ylabel('Modeled Nitrate')\n",
    "plt.title('Depth, Sal, Temp')\n",
    "b = np.linspace(0,50,50)\n",
    "a = b\n",
    "plt.plot(a,b,'--', color='k')\n",
    "plt.text(10,40,'R^2=0.97  RMSE=5.1')\n",
    "plt.show()\n",
    "#fig1.savefig('depth_sal_temp.png', dpi = 300)"
   ]
  },
  {
   "cell_type": "markdown",
   "metadata": {},
   "source": [
    "k = np.array(true_nitrate_pos)\n",
    "j = np.array(y_pred1_pos)\n",
    "diff = 100*np.abs((k-j)/k)\n",
    "plt.scatter(k,diff)\n",
    "plt.ylim([0,100])\n",
    "plt.title('Depth, Sal, Temp')\n",
    "plt.show()"
   ]
  },
  {
   "cell_type": "code",
   "execution_count": null,
   "metadata": {
    "collapsed": true
   },
   "outputs": [],
   "source": []
  },
  {
   "cell_type": "code",
   "execution_count": null,
   "metadata": {
    "collapsed": true
   },
   "outputs": [],
   "source": []
  }
 ],
 "metadata": {
  "kernelspec": {
   "display_name": "Python 3",
   "language": "python",
   "name": "python3"
  },
  "language_info": {
   "codemirror_mode": {
    "name": "ipython",
    "version": 3
   },
   "file_extension": ".py",
   "mimetype": "text/x-python",
   "name": "python",
   "nbconvert_exporter": "python",
   "pygments_lexer": "ipython3",
   "version": "3.6.0"
  }
 },
 "nbformat": 4,
 "nbformat_minor": 2
}
